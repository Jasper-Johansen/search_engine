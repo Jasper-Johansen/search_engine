{
 "cells": [
  {
   "cell_type": "code",
   "execution_count": 2,
   "id": "72d59e73-0419-470a-a47d-7eecdba26bb3",
   "metadata": {},
   "outputs": [
    {
     "name": "stdout",
     "output_type": "stream",
     "text": [
      "Requirement already satisfied: requests in c:\\users\\anoop\\appdata\\local\\programs\\python\\python312\\lib\\site-packages (2.32.3)\n",
      "Requirement already satisfied: charset-normalizer<4,>=2 in c:\\users\\anoop\\appdata\\local\\programs\\python\\python312\\lib\\site-packages (from requests) (3.3.2)\n",
      "Requirement already satisfied: idna<4,>=2.5 in c:\\users\\anoop\\appdata\\local\\programs\\python\\python312\\lib\\site-packages (from requests) (3.7)\n",
      "Requirement already satisfied: urllib3<3,>=1.21.1 in c:\\users\\anoop\\appdata\\local\\programs\\python\\python312\\lib\\site-packages (from requests) (2.2.2)\n",
      "Requirement already satisfied: certifi>=2017.4.17 in c:\\users\\anoop\\appdata\\local\\programs\\python\\python312\\lib\\site-packages (from requests) (2024.6.2)\n"
     ]
    },
    {
     "name": "stderr",
     "output_type": "stream",
     "text": [
      "\n",
      "[notice] A new release of pip is available: 24.0 -> 24.2\n",
      "[notice] To update, run: python.exe -m pip install --upgrade pip\n"
     ]
    },
    {
     "name": "stdout",
     "output_type": "stream",
     "text": [
      "Requirement already satisfied: beautifulsoup4 in c:\\users\\anoop\\appdata\\local\\programs\\python\\python312\\lib\\site-packages (4.12.3)\n",
      "Requirement already satisfied: soupsieve>1.2 in c:\\users\\anoop\\appdata\\local\\programs\\python\\python312\\lib\\site-packages (from beautifulsoup4) (2.5)\n"
     ]
    },
    {
     "name": "stderr",
     "output_type": "stream",
     "text": [
      "\n",
      "[notice] A new release of pip is available: 24.0 -> 24.2\n",
      "[notice] To update, run: python.exe -m pip install --upgrade pip\n"
     ]
    },
    {
     "name": "stdout",
     "output_type": "stream",
     "text": [
      "Collecting nltk\n",
      "  Downloading nltk-3.9.1-py3-none-any.whl.metadata (2.9 kB)\n",
      "Collecting click (from nltk)\n",
      "  Downloading click-8.1.7-py3-none-any.whl.metadata (3.0 kB)\n",
      "Collecting joblib (from nltk)\n",
      "  Downloading joblib-1.4.2-py3-none-any.whl.metadata (5.4 kB)\n",
      "Collecting regex>=2021.8.3 (from nltk)\n",
      "  Downloading regex-2024.9.11-cp312-cp312-win_amd64.whl.metadata (41 kB)\n",
      "     ---------------------------------------- 0.0/41.5 kB ? eta -:--:--\n",
      "     --------- ------------------------------ 10.2/41.5 kB ? eta -:--:--\n",
      "     ---------------------------- --------- 30.7/41.5 kB 330.3 kB/s eta 0:00:01\n",
      "     -------------------------------------- 41.5/41.5 kB 333.1 kB/s eta 0:00:00\n",
      "Collecting tqdm (from nltk)\n",
      "  Downloading tqdm-4.66.5-py3-none-any.whl.metadata (57 kB)\n",
      "     ---------------------------------------- 0.0/57.6 kB ? eta -:--:--\n",
      "     ---------------------------------------- 57.6/57.6 kB 1.5 MB/s eta 0:00:00\n",
      "Requirement already satisfied: colorama in c:\\users\\anoop\\appdata\\local\\programs\\python\\python312\\lib\\site-packages (from click->nltk) (0.4.6)\n",
      "Downloading nltk-3.9.1-py3-none-any.whl (1.5 MB)\n",
      "   ---------------------------------------- 0.0/1.5 MB ? eta -:--:--\n",
      "   - -------------------------------------- 0.1/1.5 MB 3.8 MB/s eta 0:00:01\n",
      "   -- ------------------------------------- 0.1/1.5 MB 2.6 MB/s eta 0:00:01\n",
      "   ---- ----------------------------------- 0.2/1.5 MB 1.5 MB/s eta 0:00:01\n",
      "   ------ --------------------------------- 0.2/1.5 MB 1.4 MB/s eta 0:00:01\n",
      "   ------- -------------------------------- 0.3/1.5 MB 1.5 MB/s eta 0:00:01\n",
      "   ---------- ----------------------------- 0.4/1.5 MB 1.6 MB/s eta 0:00:01\n",
      "   ------------ --------------------------- 0.5/1.5 MB 1.5 MB/s eta 0:00:01\n",
      "   -------------- ------------------------- 0.5/1.5 MB 1.5 MB/s eta 0:00:01\n",
      "   ---------------- ----------------------- 0.6/1.5 MB 1.6 MB/s eta 0:00:01\n",
      "   ------------------ --------------------- 0.7/1.5 MB 1.6 MB/s eta 0:00:01\n",
      "   -------------------- ------------------- 0.8/1.5 MB 1.6 MB/s eta 0:00:01\n",
      "   ---------------------- ----------------- 0.8/1.5 MB 1.6 MB/s eta 0:00:01\n",
      "   ------------------------- -------------- 1.0/1.5 MB 1.6 MB/s eta 0:00:01\n",
      "   ---------------------------- ----------- 1.1/1.5 MB 1.7 MB/s eta 0:00:01\n",
      "   ----------------------------- ---------- 1.1/1.5 MB 1.7 MB/s eta 0:00:01\n",
      "   ---------------------------------- ----- 1.3/1.5 MB 1.8 MB/s eta 0:00:01\n",
      "   ----------------------------------- ---- 1.3/1.5 MB 1.7 MB/s eta 0:00:01\n",
      "   -------------------------------------- - 1.5/1.5 MB 1.8 MB/s eta 0:00:01\n",
      "   ---------------------------------------  1.5/1.5 MB 1.7 MB/s eta 0:00:01\n",
      "   ---------------------------------------- 1.5/1.5 MB 1.7 MB/s eta 0:00:00\n",
      "Downloading regex-2024.9.11-cp312-cp312-win_amd64.whl (273 kB)\n",
      "   ---------------------------------------- 0.0/273.5 kB ? eta -:--:--\n",
      "   ----------------- ---------------------- 122.9/273.5 kB 3.6 MB/s eta 0:00:01\n",
      "   ---------------------------- ----------- 194.6/273.5 kB 3.0 MB/s eta 0:00:01\n",
      "   ---------------------------------------- 273.5/273.5 kB 2.1 MB/s eta 0:00:00\n",
      "Downloading click-8.1.7-py3-none-any.whl (97 kB)\n",
      "   ---------------------------------------- 0.0/97.9 kB ? eta -:--:--\n",
      "   ------------------------------------- -- 92.2/97.9 kB 5.5 MB/s eta 0:00:01\n",
      "   ---------------------------------------- 97.9/97.9 kB 1.9 MB/s eta 0:00:00\n",
      "Downloading joblib-1.4.2-py3-none-any.whl (301 kB)\n",
      "   ---------------------------------------- 0.0/301.8 kB ? eta -:--:--\n",
      "   ------------ --------------------------- 92.2/301.8 kB 5.1 MB/s eta 0:00:01\n",
      "   ----------------------------- ---------- 225.3/301.8 kB 2.8 MB/s eta 0:00:01\n",
      "   ---------------------------------------- 301.8/301.8 kB 2.3 MB/s eta 0:00:00\n",
      "Downloading tqdm-4.66.5-py3-none-any.whl (78 kB)\n",
      "   ---------------------------------------- 0.0/78.4 kB ? eta -:--:--\n",
      "   ------------------------------------ --- 71.7/78.4 kB 1.3 MB/s eta 0:00:01\n",
      "   ---------------------------------------- 78.4/78.4 kB 873.2 kB/s eta 0:00:00\n",
      "Installing collected packages: tqdm, regex, joblib, click, nltk\n",
      "Successfully installed click-8.1.7 joblib-1.4.2 nltk-3.9.1 regex-2024.9.11 tqdm-4.66.5\n"
     ]
    },
    {
     "name": "stderr",
     "output_type": "stream",
     "text": [
      "\n",
      "[notice] A new release of pip is available: 24.0 -> 24.2\n",
      "[notice] To update, run: python.exe -m pip install --upgrade pip\n"
     ]
    }
   ],
   "source": [
    "#Installing the necessary libraries\n",
    "!pip install requests\n",
    "!pip install beautifulsoup4\n",
    "!pip install nltk\n"
   ]
  },
  {
   "cell_type": "code",
   "execution_count": 3,
   "id": "b0bec5de-1a19-4757-a437-a3669ebab37a",
   "metadata": {},
   "outputs": [],
   "source": [
    "#Importing the library functionalities\n",
    "import re\n",
    "import requests\n",
    "from bs4 import BeautifulSoup\n",
    "import time\n",
    "from nltk.corpus import stopwords\n",
    "from nltk.stem import PorterStemmer, WordNetLemmatizer\n",
    "import urllib.robotparser"
   ]
  },
  {
   "cell_type": "code",
   "execution_count": 4,
   "id": "541a4ac3-0e7a-4591-8d17-7f0feae5c040",
   "metadata": {},
   "outputs": [
    {
     "name": "stderr",
     "output_type": "stream",
     "text": [
      "[nltk_data] Downloading package stopwords to\n",
      "[nltk_data]     C:\\Users\\anoop\\AppData\\Roaming\\nltk_data...\n",
      "[nltk_data]   Unzipping corpora\\stopwords.zip.\n",
      "[nltk_data] Downloading package wordnet to\n",
      "[nltk_data]     C:\\Users\\anoop\\AppData\\Roaming\\nltk_data...\n"
     ]
    },
    {
     "data": {
      "text/plain": [
       "True"
      ]
     },
     "execution_count": 4,
     "metadata": {},
     "output_type": "execute_result"
    }
   ],
   "source": [
    "# Ensure stopwords and other resources are available\n",
    "import nltk\n",
    "nltk.download('stopwords')\n",
    "nltk.download('wordnet')"
   ]
  },
  {
   "cell_type": "code",
   "execution_count": 5,
   "id": "737b8979-49f2-481b-8259-2086626f93a0",
   "metadata": {},
   "outputs": [],
   "source": [
    "# Function to fetch the HTML content of a page\n",
    "def fetch_page(url):\n",
    "    try:\n",
    "        response = requests.get(url)\n",
    "        if response.status_code == 200:\n",
    "            return response.text\n",
    "        else:\n",
    "            print(f\"Failed to fetch {url}: Status code {response.status_code}\")\n",
    "            return None\n",
    "    except Exception as e:\n",
    "        print(f\"Error fetching {url}: {e}\")\n",
    "        return None"
   ]
  },
  {
   "cell_type": "code",
   "execution_count": 7,
   "id": "fec44e54-0689-4e98-a7c3-4c9f77d0c0fc",
   "metadata": {},
   "outputs": [],
   "source": [
    "# Function to extract all links from a webpage\n",
    "def extract_links(html_content, base_url):\n",
    "    soup = BeautifulSoup(html_content, 'html.parser')\n",
    "    links = set()  # Using a set to avoid duplicate URLs\n",
    "    for anchor in soup.find_all('a', href=True):\n",
    "        href = anchor['href']\n",
    "        if href.startswith('http'):  # Ensure it's a complete URL\n",
    "            links.add(href)\n",
    "        else:\n",
    "            links.add(base_url + href)  # Handle relative URLs\n",
    "    return links\n"
   ]
  },
  {
   "cell_type": "code",
   "execution_count": 9,
   "id": "1e761be7-382b-40aa-b969-37bced674965",
   "metadata": {},
   "outputs": [],
   "source": [
    "# Function to tokenize the text content of a webpage\n",
    "def tokenize(text):\n",
    "    tokens = re.findall(r'\\b\\w+\\b', text)  # Using regex to split words\n",
    "    return tokens"
   ]
  },
  {
   "cell_type": "code",
   "execution_count": 10,
   "id": "aa986ae4-a2e1-4e5b-ad79-ac6d937e3c97",
   "metadata": {},
   "outputs": [],
   "source": [
    "# Function to normalize tokens: lowercasing, removing stopwords, stemming/lemmatization\n",
    "def normalize(tokens, use_stemming=True):\n",
    "    tokens = [token.lower() for token in tokens]  # Convert all tokens to lowercase\n",
    "\n",
    "    # Remove stopwords\n",
    "    stop_words = set(stopwords.words('english'))\n",
    "    tokens = [token for token in tokens if token not in stop_words]\n",
    "\n",
    "    # Apply stemming or lemmatization\n",
    "    if use_stemming:\n",
    "        stemmer = PorterStemmer()\n",
    "        tokens = [stemmer.stem(token) for token in tokens]\n",
    "    else:\n",
    "        lemmatizer = WordNetLemmatizer()\n",
    "        tokens = [lemmatizer.lemmatize(token) for token in tokens]\n",
    "    \n",
    "    return tokens\n"
   ]
  },
  {
   "cell_type": "code",
   "execution_count": 11,
   "id": "6e915ad6-3c70-4f8e-a858-dd933faa0526",
   "metadata": {},
   "outputs": [],
   "source": [
    "# Function to check if crawling a URL is allowed by robots.txt\n",
    "def can_crawl(url, user_agent=\"*\"):\n",
    "    # Create a RobotFileParser object\n",
    "    rp = urllib.robotparser.RobotFileParser()\n",
    "    \n",
    "    # Get the robots.txt URL by adding /robots.txt to the base domain\n",
    "    base_url = url.split(\"/\")[0] + \"//\" + url.split(\"/\")[2]\n",
    "    robots_txt_url = base_url + \"/robots.txt\"\n",
    "    \n",
    "    try:\n",
    "        rp.set_url(robots_txt_url)\n",
    "        rp.read()\n",
    "        return rp.can_fetch(user_agent, url)  # Check if the URL can be fetched\n",
    "    except Exception as e:\n",
    "        print(f\"Could not read robots.txt for {url}: {e}\")\n",
    "        return True  # Allow crawling by default if robots.txt is not accessible"
   ]
  },
  {
   "cell_type": "code",
   "execution_count": 13,
   "id": "811a7772-9045-46d4-b4f5-b1215650fcf3",
   "metadata": {},
   "outputs": [
    {
     "name": "stdout",
     "output_type": "stream",
     "text": [
      "Crawling: https://jasper-johansen.github.io/julia_documentation/\n",
      "Normalized Tokens: ['julia', 'languag', 'document', 'julia', 'languag', 'document', 'introduct', 'get', 'start', 'comment', 'variabl', 'constant', 'datatyp', 'oper', 'control', 'statement', 'refer', 'introduct', 'julia', 'high', 'level', 'high', 'perform', 'program', 'languag']\n",
      "Crawling: https://jasper-johansen.github.io/julia_documentation/#References\n",
      "Normalized Tokens: ['julia', 'languag', 'document', 'julia', 'languag', 'document', 'introduct', 'get', 'start', 'comment', 'variabl', 'constant', 'datatyp', 'oper', 'control', 'statement', 'refer', 'introduct', 'julia', 'high', 'level', 'high', 'perform', 'program', 'languag']\n",
      "Crawling: https://jasper-johansen.github.io/julia_documentation/#Introduction\n",
      "Normalized Tokens: ['julia', 'languag', 'document', 'julia', 'languag', 'document', 'introduct', 'get', 'start', 'comment', 'variabl', 'constant', 'datatyp', 'oper', 'control', 'statement', 'refer', 'introduct', 'julia', 'high', 'level', 'high', 'perform', 'program', 'languag']\n",
      "Crawling: https://jasper-johansen.github.io/julia_documentation/#Comments\n",
      "Normalized Tokens: ['julia', 'languag', 'document', 'julia', 'languag', 'document', 'introduct', 'get', 'start', 'comment', 'variabl', 'constant', 'datatyp', 'oper', 'control', 'statement', 'refer', 'introduct', 'julia', 'high', 'level', 'high', 'perform', 'program', 'languag']\n",
      "Crawling: https://jasper-johansen.github.io/julia_documentation/#Control_Statements\n",
      "Normalized Tokens: ['julia', 'languag', 'document', 'julia', 'languag', 'document', 'introduct', 'get', 'start', 'comment', 'variabl', 'constant', 'datatyp', 'oper', 'control', 'statement', 'refer', 'introduct', 'julia', 'high', 'level', 'high', 'perform', 'program', 'languag']\n",
      "Crawling: https://jasper-johansen.github.io/julia_documentation/#Variables_and_Constants\n",
      "Normalized Tokens: ['julia', 'languag', 'document', 'julia', 'languag', 'document', 'introduct', 'get', 'start', 'comment', 'variabl', 'constant', 'datatyp', 'oper', 'control', 'statement', 'refer', 'introduct', 'julia', 'high', 'level', 'high', 'perform', 'program', 'languag']\n",
      "Crawling: https://jasper-johansen.github.io/julia_documentation/#Datatypes_and_Operations\n",
      "Normalized Tokens: ['julia', 'languag', 'document', 'julia', 'languag', 'document', 'introduct', 'get', 'start', 'comment', 'variabl', 'constant', 'datatyp', 'oper', 'control', 'statement', 'refer', 'introduct', 'julia', 'high', 'level', 'high', 'perform', 'program', 'languag']\n",
      "Crawling: https://julialang.org/downloads/\n",
      "Normalized Tokens: ['download', 'julia', 'download', 'document', 'learn', 'blog', 'commun', 'contribut', 'jsoc', 'star', 'sponsor', 'instal', 'instal', 'latest', 'julia', 'version', 'v1', '11', '0', 'octob', '7', '2024', 'microsoft', 'store', 'run']\n",
      "Crawling: https://jasper-johansen.github.io/julia_documentation/#Getting_Started\n",
      "Normalized Tokens: ['julia', 'languag', 'document', 'julia', 'languag', 'document', 'introduct', 'get', 'start', 'comment', 'variabl', 'constant', 'datatyp', 'oper', 'control', 'statement', 'refer', 'introduct', 'julia', 'high', 'level', 'high', 'perform', 'program', 'languag']\n",
      "Crawling: https://docs.julialang.org/en/v1/\n",
      "Normalized Tokens: ['julia', 'document', 'julia', 'languagesearch', 'doc', 'ctrl', 'julia', 'documentationimport', 'linksintroductionjulia', 'compar', 'languagesmanualget', 'startedinstallationvariablesinteg', 'float', 'point', 'numbersmathemat', 'oper', 'elementari', 'functionscomplex', 'ration', 'numbersstringsfunctionscontrol', 'flowscop', 'variablestypesmethodsconstructorsconvers', 'promotioninterfacesmodulesdocumentationmetaprogrammingsingl', 'multi', 'dimension']\n",
      "Crawled 10 pages\n"
     ]
    }
   ],
   "source": [
    "# Main crawler function\n",
    "def crawl(seed_url, max_pages=10):\n",
    "    to_crawl = [seed_url]  # List of pages to visit\n",
    "    crawled = set()  # Set of pages already visited\n",
    "\n",
    "    while to_crawl and len(crawled) < max_pages:\n",
    "        url = to_crawl.pop(0)  # Get the next page to crawl\n",
    "        if url in crawled:\n",
    "            continue  # Skip if already crawled\n",
    "\n",
    "        # Check if the URL is allowed to be crawled by robots.txt\n",
    "        if not can_crawl(url):\n",
    "            print(f\"Blocked by robots.txt: {url}\")\n",
    "            continue\n",
    "\n",
    "        print(f\"Crawling: {url}\")\n",
    "        html_content = fetch_page(url)\n",
    "\n",
    "        if html_content:\n",
    "            # Extract the text content from the page\n",
    "            soup = BeautifulSoup(html_content, 'html.parser')\n",
    "            page_text = soup.get_text()\n",
    "\n",
    "            # Tokenize and normalize the text content\n",
    "            tokens = tokenize(page_text)\n",
    "            normalized_tokens = normalize(tokens, use_stemming=True)  # You can set use_stemming=False for lemmatization\n",
    "\n",
    "            print(f\"Normalized Tokens: {normalized_tokens[:25]}\")  # Print first 10 tokens for brevity\n",
    "\n",
    "            # Extract and add new links to the to_crawl list\n",
    "            links = extract_links(html_content, url)\n",
    "            to_crawl.extend(links - crawled)  # Add new links to crawl\n",
    "            crawled.add(url)\n",
    "\n",
    "        time.sleep(0.4)  # Add a delay to avoid overwhelming servers\n",
    "\n",
    "    print(f\"Crawled {len(crawled)} pages\")\n",
    "\n",
    "# Start crawling from a seed URL\n",
    "seed_url = \"https://jasper-johansen.github.io/julia_documentation/\"\n",
    "crawl(seed_url)"
   ]
  },
  {
   "cell_type": "code",
   "execution_count": null,
   "id": "477cf746-79ba-4bb7-a99e-b98902e6735a",
   "metadata": {},
   "outputs": [],
   "source": []
  }
 ],
 "metadata": {
  "kernelspec": {
   "display_name": "Python 3 (ipykernel)",
   "language": "python",
   "name": "python3"
  },
  "language_info": {
   "codemirror_mode": {
    "name": "ipython",
    "version": 3
   },
   "file_extension": ".py",
   "mimetype": "text/x-python",
   "name": "python",
   "nbconvert_exporter": "python",
   "pygments_lexer": "ipython3",
   "version": "3.12.4"
  }
 },
 "nbformat": 4,
 "nbformat_minor": 5
}
