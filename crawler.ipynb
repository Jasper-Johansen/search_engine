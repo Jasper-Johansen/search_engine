{
 "cells": [
  {
   "cell_type": "code",
   "execution_count": 2,
   "id": "72d59e73-0419-470a-a47d-7eecdba26bb3",
   "metadata": {},
   "outputs": [
    {
     "name": "stdout",
     "output_type": "stream",
     "text": [
      "Requirement already satisfied: requests in c:\\users\\anoop\\appdata\\local\\programs\\python\\python312\\lib\\site-packages (2.32.3)\n",
      "Requirement already satisfied: charset-normalizer<4,>=2 in c:\\users\\anoop\\appdata\\local\\programs\\python\\python312\\lib\\site-packages (from requests) (3.3.2)\n",
      "Requirement already satisfied: idna<4,>=2.5 in c:\\users\\anoop\\appdata\\local\\programs\\python\\python312\\lib\\site-packages (from requests) (3.7)\n",
      "Requirement already satisfied: urllib3<3,>=1.21.1 in c:\\users\\anoop\\appdata\\local\\programs\\python\\python312\\lib\\site-packages (from requests) (2.2.2)\n",
      "Requirement already satisfied: certifi>=2017.4.17 in c:\\users\\anoop\\appdata\\local\\programs\\python\\python312\\lib\\site-packages (from requests) (2024.6.2)\n"
     ]
    },
    {
     "name": "stderr",
     "output_type": "stream",
     "text": [
      "\n",
      "[notice] A new release of pip is available: 24.0 -> 24.2\n",
      "[notice] To update, run: python.exe -m pip install --upgrade pip\n"
     ]
    },
    {
     "name": "stdout",
     "output_type": "stream",
     "text": [
      "Requirement already satisfied: beautifulsoup4 in c:\\users\\anoop\\appdata\\local\\programs\\python\\python312\\lib\\site-packages (4.12.3)\n",
      "Requirement already satisfied: soupsieve>1.2 in c:\\users\\anoop\\appdata\\local\\programs\\python\\python312\\lib\\site-packages (from beautifulsoup4) (2.5)\n"
     ]
    },
    {
     "name": "stderr",
     "output_type": "stream",
     "text": [
      "\n",
      "[notice] A new release of pip is available: 24.0 -> 24.2\n",
      "[notice] To update, run: python.exe -m pip install --upgrade pip\n"
     ]
    },
    {
     "name": "stdout",
     "output_type": "stream",
     "text": [
      "Collecting nltk\n",
      "  Downloading nltk-3.9.1-py3-none-any.whl.metadata (2.9 kB)\n",
      "Collecting click (from nltk)\n",
      "  Downloading click-8.1.7-py3-none-any.whl.metadata (3.0 kB)\n",
      "Collecting joblib (from nltk)\n",
      "  Downloading joblib-1.4.2-py3-none-any.whl.metadata (5.4 kB)\n",
      "Collecting regex>=2021.8.3 (from nltk)\n",
      "  Downloading regex-2024.9.11-cp312-cp312-win_amd64.whl.metadata (41 kB)\n",
      "     ---------------------------------------- 0.0/41.5 kB ? eta -:--:--\n",
      "     --------- ------------------------------ 10.2/41.5 kB ? eta -:--:--\n",
      "     ---------------------------- --------- 30.7/41.5 kB 330.3 kB/s eta 0:00:01\n",
      "     -------------------------------------- 41.5/41.5 kB 333.1 kB/s eta 0:00:00\n",
      "Collecting tqdm (from nltk)\n",
      "  Downloading tqdm-4.66.5-py3-none-any.whl.metadata (57 kB)\n",
      "     ---------------------------------------- 0.0/57.6 kB ? eta -:--:--\n",
      "     ---------------------------------------- 57.6/57.6 kB 1.5 MB/s eta 0:00:00\n",
      "Requirement already satisfied: colorama in c:\\users\\anoop\\appdata\\local\\programs\\python\\python312\\lib\\site-packages (from click->nltk) (0.4.6)\n",
      "Downloading nltk-3.9.1-py3-none-any.whl (1.5 MB)\n",
      "   ---------------------------------------- 0.0/1.5 MB ? eta -:--:--\n",
      "   - -------------------------------------- 0.1/1.5 MB 3.8 MB/s eta 0:00:01\n",
      "   -- ------------------------------------- 0.1/1.5 MB 2.6 MB/s eta 0:00:01\n",
      "   ---- ----------------------------------- 0.2/1.5 MB 1.5 MB/s eta 0:00:01\n",
      "   ------ --------------------------------- 0.2/1.5 MB 1.4 MB/s eta 0:00:01\n",
      "   ------- -------------------------------- 0.3/1.5 MB 1.5 MB/s eta 0:00:01\n",
      "   ---------- ----------------------------- 0.4/1.5 MB 1.6 MB/s eta 0:00:01\n",
      "   ------------ --------------------------- 0.5/1.5 MB 1.5 MB/s eta 0:00:01\n",
      "   -------------- ------------------------- 0.5/1.5 MB 1.5 MB/s eta 0:00:01\n",
      "   ---------------- ----------------------- 0.6/1.5 MB 1.6 MB/s eta 0:00:01\n",
      "   ------------------ --------------------- 0.7/1.5 MB 1.6 MB/s eta 0:00:01\n",
      "   -------------------- ------------------- 0.8/1.5 MB 1.6 MB/s eta 0:00:01\n",
      "   ---------------------- ----------------- 0.8/1.5 MB 1.6 MB/s eta 0:00:01\n",
      "   ------------------------- -------------- 1.0/1.5 MB 1.6 MB/s eta 0:00:01\n",
      "   ---------------------------- ----------- 1.1/1.5 MB 1.7 MB/s eta 0:00:01\n",
      "   ----------------------------- ---------- 1.1/1.5 MB 1.7 MB/s eta 0:00:01\n",
      "   ---------------------------------- ----- 1.3/1.5 MB 1.8 MB/s eta 0:00:01\n",
      "   ----------------------------------- ---- 1.3/1.5 MB 1.7 MB/s eta 0:00:01\n",
      "   -------------------------------------- - 1.5/1.5 MB 1.8 MB/s eta 0:00:01\n",
      "   ---------------------------------------  1.5/1.5 MB 1.7 MB/s eta 0:00:01\n",
      "   ---------------------------------------- 1.5/1.5 MB 1.7 MB/s eta 0:00:00\n",
      "Downloading regex-2024.9.11-cp312-cp312-win_amd64.whl (273 kB)\n",
      "   ---------------------------------------- 0.0/273.5 kB ? eta -:--:--\n",
      "   ----------------- ---------------------- 122.9/273.5 kB 3.6 MB/s eta 0:00:01\n",
      "   ---------------------------- ----------- 194.6/273.5 kB 3.0 MB/s eta 0:00:01\n",
      "   ---------------------------------------- 273.5/273.5 kB 2.1 MB/s eta 0:00:00\n",
      "Downloading click-8.1.7-py3-none-any.whl (97 kB)\n",
      "   ---------------------------------------- 0.0/97.9 kB ? eta -:--:--\n",
      "   ------------------------------------- -- 92.2/97.9 kB 5.5 MB/s eta 0:00:01\n",
      "   ---------------------------------------- 97.9/97.9 kB 1.9 MB/s eta 0:00:00\n",
      "Downloading joblib-1.4.2-py3-none-any.whl (301 kB)\n",
      "   ---------------------------------------- 0.0/301.8 kB ? eta -:--:--\n",
      "   ------------ --------------------------- 92.2/301.8 kB 5.1 MB/s eta 0:00:01\n",
      "   ----------------------------- ---------- 225.3/301.8 kB 2.8 MB/s eta 0:00:01\n",
      "   ---------------------------------------- 301.8/301.8 kB 2.3 MB/s eta 0:00:00\n",
      "Downloading tqdm-4.66.5-py3-none-any.whl (78 kB)\n",
      "   ---------------------------------------- 0.0/78.4 kB ? eta -:--:--\n",
      "   ------------------------------------ --- 71.7/78.4 kB 1.3 MB/s eta 0:00:01\n",
      "   ---------------------------------------- 78.4/78.4 kB 873.2 kB/s eta 0:00:00\n",
      "Installing collected packages: tqdm, regex, joblib, click, nltk\n",
      "Successfully installed click-8.1.7 joblib-1.4.2 nltk-3.9.1 regex-2024.9.11 tqdm-4.66.5\n"
     ]
    },
    {
     "name": "stderr",
     "output_type": "stream",
     "text": [
      "\n",
      "[notice] A new release of pip is available: 24.0 -> 24.2\n",
      "[notice] To update, run: python.exe -m pip install --upgrade pip\n"
     ]
    }
   ],
   "source": [
    "#Installing the necessary libraries\n",
    "!pip install requests\n",
    "!pip install beautifulsoup4\n",
    "!pip install nltk\n"
   ]
  },
  {
   "cell_type": "code",
   "execution_count": 3,
   "id": "b0bec5de-1a19-4757-a437-a3669ebab37a",
   "metadata": {},
   "outputs": [],
   "source": [
    "#Importing the library functionalities\n",
    "import re\n",
    "import requests\n",
    "from bs4 import BeautifulSoup\n",
    "import time\n",
    "from nltk.corpus import stopwords\n",
    "from nltk.stem import PorterStemmer, WordNetLemmatizer\n",
    "import urllib.robotparser"
   ]
  },
  {
   "cell_type": "code",
   "execution_count": 4,
   "id": "737b8979-49f2-481b-8259-2086626f93a0",
   "metadata": {},
   "outputs": [],
   "source": [
    "# Function to fetch the HTML content of a page\n",
    "def fetch_page(url):\n",
    "    try:\n",
    "        response = requests.get(url)\n",
    "        if response.status_code == 200:\n",
    "            return response.text\n",
    "        else:\n",
    "            print(f\"Failed to fetch {url}: Status code {response.status_code}\")\n",
    "            return None\n",
    "    except Exception as e:\n",
    "        print(f\"Error fetching {url}: {e}\")\n",
    "        return None"
   ]
  },
  {
   "cell_type": "code",
   "execution_count": 5,
   "id": "aa170a11-d577-4047-868e-148f5217e323",
   "metadata": {},
   "outputs": [],
   "source": [
    "# Function to extract all links from a webpage\n",
    "def extract_links(html_content, base_url):\n",
    "    soup = BeautifulSoup(html_content, 'html.parser')\n",
    "    links = set()  # Using a set to avoid duplicate URLs\n",
    "    for anchor in soup.find_all('a', href=True):\n",
    "        href = anchor['href']\n",
    "        if href.startswith('http'):  # Ensure it's a complete URL\n",
    "            links.add(href)\n",
    "        else:\n",
    "            links.add(base_url + href)  # Handle relative URLs\n",
    "    return links"
   ]
  },
  {
   "cell_type": "code",
   "execution_count": 6,
   "id": "d1a9545f-b2ce-42bc-aa0f-5eba973dee04",
   "metadata": {},
   "outputs": [],
   "source": [
    "# Function to check if crawling a URL is allowed by robots.txt\n",
    "def can_crawl(url, user_agent=\"*\"):\n",
    "    # Create a RobotFileParser object\n",
    "    rp = urllib.robotparser.RobotFileParser()\n",
    "    \n",
    "    # Get the robots.txt URL by adding /robots.txt to the base domain\n",
    "    base_url = url.split(\"/\")[0] + \"//\" + url.split(\"/\")[2]\n",
    "    robots_txt_url = base_url + \"/robots.txt\"\n",
    "    \n",
    "    try:\n",
    "        rp.set_url(robots_txt_url)\n",
    "        rp.read()\n",
    "        return rp.can_fetch(user_agent, url)  # Check if the URL can be fetched\n",
    "    except Exception as e:\n",
    "        print(f\"Could not read robots.txt for {url}: {e}\")\n",
    "        return True  # Allow crawling by default if robots.txt is not accessible\n"
   ]
  },
  {
   "cell_type": "code",
   "execution_count": 18,
   "id": "811a7772-9045-46d4-b4f5-b1215650fcf3",
   "metadata": {},
   "outputs": [
    {
     "name": "stdout",
     "output_type": "stream",
     "text": [
      "Crawling: https://jasper-johansen.github.io/julia_documentation/\n",
      "Crawling: https://jasper-johansen.github.io/julia_documentation/#Introduction\n",
      "Crawling: https://jasper-johansen.github.io/julia_documentation/#Variables_and_Constants\n",
      "Crawling: https://docs.julialang.org/en/v1/\n",
      "Crawling: https://jasper-johansen.github.io/julia_documentation/#References\n",
      "Crawling: https://jasper-johansen.github.io/julia_documentation/#Datatypes_and_Operations\n",
      "Crawling: https://julialang.org/downloads/\n",
      "Crawling: https://jasper-johansen.github.io/julia_documentation/#Comments\n",
      "Crawling: https://jasper-johansen.github.io/julia_documentation/#Control_Statements\n",
      "Crawling: https://jasper-johansen.github.io/julia_documentation/#Getting_Started\n",
      "Crawled 10 pages\n"
     ]
    }
   ],
   "source": [
    "# Main crawler function\n",
    "def crawl(seed_url, max_pages=10):\n",
    "    to_crawl = [seed_url]  # List of pages to visit\n",
    "    crawled = set()  # Set of pages already visited\n",
    "\n",
    "    while to_crawl and len(crawled) < max_pages:\n",
    "        url = to_crawl.pop(0)  # Get the next page to crawl\n",
    "        if url in crawled:\n",
    "            continue  # Skip if already crawled\n",
    "\n",
    "        # Check if the URL is allowed to be crawled by robots.txt\n",
    "        if not can_crawl(url):\n",
    "            print(f\"Blocked by robots.txt: {url}\")\n",
    "            continue\n",
    "\n",
    "        print(f\"Crawling: {url}\")\n",
    "        html_content = fetch_page(url)\n",
    "\n",
    "        if html_content:\n",
    "            links = extract_links(html_content, url)\n",
    "            to_crawl.extend(links - crawled)  # Add new links to crawl\n",
    "            crawled.add(url)\n",
    "\n",
    "        time.sleep(0.4)  # Add a delay to avoid overwhelming servers\n",
    "\n",
    "    print(f\"Crawled {len(crawled)} pages\")\n",
    "\n",
    "# Start crawling from a seed URL\n",
    "seed_url = \"https://jasper-johansen.github.io/julia_documentation/\"\n",
    "crawl(seed_url)"
   ]
  },
  {
   "cell_type": "code",
   "execution_count": null,
   "id": "477cf746-79ba-4bb7-a99e-b98902e6735a",
   "metadata": {},
   "outputs": [],
   "source": []
  }
 ],
 "metadata": {
  "kernelspec": {
   "display_name": "Python 3 (ipykernel)",
   "language": "python",
   "name": "python3"
  },
  "language_info": {
   "codemirror_mode": {
    "name": "ipython",
    "version": 3
   },
   "file_extension": ".py",
   "mimetype": "text/x-python",
   "name": "python",
   "nbconvert_exporter": "python",
   "pygments_lexer": "ipython3",
   "version": "3.12.4"
  }
 },
 "nbformat": 4,
 "nbformat_minor": 5
}
