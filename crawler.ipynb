{
 "cells": [
  {
   "cell_type": "code",
   "execution_count": 2,
   "id": "72d59e73-0419-470a-a47d-7eecdba26bb3",
   "metadata": {},
   "outputs": [
    {
     "name": "stdout",
     "output_type": "stream",
     "text": [
      "Requirement already satisfied: requests in c:\\users\\anoop\\appdata\\local\\programs\\python\\python312\\lib\\site-packages (2.32.3)\n",
      "Requirement already satisfied: charset-normalizer<4,>=2 in c:\\users\\anoop\\appdata\\local\\programs\\python\\python312\\lib\\site-packages (from requests) (3.3.2)\n",
      "Requirement already satisfied: idna<4,>=2.5 in c:\\users\\anoop\\appdata\\local\\programs\\python\\python312\\lib\\site-packages (from requests) (3.7)\n",
      "Requirement already satisfied: urllib3<3,>=1.21.1 in c:\\users\\anoop\\appdata\\local\\programs\\python\\python312\\lib\\site-packages (from requests) (2.2.2)\n",
      "Requirement already satisfied: certifi>=2017.4.17 in c:\\users\\anoop\\appdata\\local\\programs\\python\\python312\\lib\\site-packages (from requests) (2024.6.2)\n"
     ]
    },
    {
     "name": "stderr",
     "output_type": "stream",
     "text": [
      "\n",
      "[notice] A new release of pip is available: 24.0 -> 24.2\n",
      "[notice] To update, run: python.exe -m pip install --upgrade pip\n"
     ]
    },
    {
     "name": "stdout",
     "output_type": "stream",
     "text": [
      "Requirement already satisfied: beautifulsoup4 in c:\\users\\anoop\\appdata\\local\\programs\\python\\python312\\lib\\site-packages (4.12.3)\n",
      "Requirement already satisfied: soupsieve>1.2 in c:\\users\\anoop\\appdata\\local\\programs\\python\\python312\\lib\\site-packages (from beautifulsoup4) (2.5)\n"
     ]
    },
    {
     "name": "stderr",
     "output_type": "stream",
     "text": [
      "\n",
      "[notice] A new release of pip is available: 24.0 -> 24.2\n",
      "[notice] To update, run: python.exe -m pip install --upgrade pip\n"
     ]
    }
   ],
   "source": [
    "#Installing the necessary libraries\n",
    "!pip install requests\n",
    "!pip install beautifulsoup4\n"
   ]
  },
  {
   "cell_type": "code",
   "execution_count": 4,
   "id": "67d1426e-23e5-4d50-98dc-58a3f00f9496",
   "metadata": {},
   "outputs": [
    {
     "name": "stdout",
     "output_type": "stream",
     "text": [
      "Requirement already satisfied: pip in c:\\users\\anoop\\appdata\\local\\programs\\python\\python312\\lib\\site-packages (24.0)\n",
      "Collecting pip\n",
      "  Downloading pip-24.2-py3-none-any.whl.metadata (3.6 kB)\n",
      "Downloading pip-24.2-py3-none-any.whl (1.8 MB)\n",
      "   ---------------------------------------- 0.0/1.8 MB ? eta -:--:--\n",
      "   ---------------------------------------- 0.0/1.8 MB ? eta -:--:--\n",
      "    --------------------------------------- 0.0/1.8 MB 435.7 kB/s eta 0:00:05\n",
      "    --------------------------------------- 0.0/1.8 MB 388.9 kB/s eta 0:00:05\n",
      "   -- ------------------------------------- 0.1/1.8 MB 581.0 kB/s eta 0:00:03\n",
      "   --- ------------------------------------ 0.1/1.8 MB 774.0 kB/s eta 0:00:03\n",
      "   ---- ----------------------------------- 0.2/1.8 MB 827.9 kB/s eta 0:00:02\n",
      "   ----- ---------------------------------- 0.3/1.8 MB 907.8 kB/s eta 0:00:02\n",
      "   ------ --------------------------------- 0.3/1.8 MB 916.0 kB/s eta 0:00:02\n",
      "   -------- ------------------------------- 0.4/1.8 MB 955.7 kB/s eta 0:00:02\n",
      "   -------- ------------------------------- 0.4/1.8 MB 956.1 kB/s eta 0:00:02\n",
      "   ---------- ----------------------------- 0.5/1.8 MB 992.4 kB/s eta 0:00:02\n",
      "   ---------- ----------------------------- 0.5/1.8 MB 992.3 kB/s eta 0:00:02\n",
      "   ----------- ---------------------------- 0.5/1.8 MB 973.5 kB/s eta 0:00:02\n",
      "   ------------- -------------------------- 0.6/1.8 MB 1.0 MB/s eta 0:00:02\n",
      "   --------------- ------------------------ 0.7/1.8 MB 1.1 MB/s eta 0:00:02\n",
      "   ----------------- ---------------------- 0.8/1.8 MB 1.1 MB/s eta 0:00:01\n",
      "   ------------------ --------------------- 0.8/1.8 MB 1.2 MB/s eta 0:00:01\n",
      "   ------------------- -------------------- 0.9/1.8 MB 1.1 MB/s eta 0:00:01\n",
      "   --------------------- ------------------ 1.0/1.8 MB 1.2 MB/s eta 0:00:01\n",
      "   ----------------------- ---------------- 1.0/1.8 MB 1.2 MB/s eta 0:00:01\n",
      "   ------------------------ --------------- 1.1/1.8 MB 1.2 MB/s eta 0:00:01\n",
      "   ------------------------- -------------- 1.2/1.8 MB 1.2 MB/s eta 0:00:01\n",
      "   ---------------------------- ----------- 1.3/1.8 MB 1.3 MB/s eta 0:00:01\n",
      "   ----------------------------- ---------- 1.3/1.8 MB 1.3 MB/s eta 0:00:01\n",
      "   ------------------------------ --------- 1.4/1.8 MB 1.2 MB/s eta 0:00:01\n",
      "   ------------------------------- -------- 1.4/1.8 MB 1.2 MB/s eta 0:00:01\n",
      "   -------------------------------- ------- 1.5/1.8 MB 1.2 MB/s eta 0:00:01\n",
      "   --------------------------------- ------ 1.5/1.8 MB 1.2 MB/s eta 0:00:01\n",
      "   ---------------------------------- ----- 1.6/1.8 MB 1.2 MB/s eta 0:00:01\n",
      "   ---------------------------------- ----- 1.6/1.8 MB 1.2 MB/s eta 0:00:01\n",
      "   ----------------------------------- ---- 1.6/1.8 MB 1.2 MB/s eta 0:00:01\n",
      "   ------------------------------------- -- 1.7/1.8 MB 1.2 MB/s eta 0:00:01\n",
      "   ---------------------------------------  1.8/1.8 MB 1.2 MB/s eta 0:00:01\n",
      "   ---------------------------------------- 1.8/1.8 MB 1.2 MB/s eta 0:00:00\n"
     ]
    },
    {
     "name": "stderr",
     "output_type": "stream",
     "text": [
      "ERROR: To modify pip, please run the following command:\n",
      "C:\\Users\\anoop\\AppData\\Local\\Programs\\Python\\Python312\\python.exe -m pip install --upgrade pip\n",
      "\n",
      "[notice] A new release of pip is available: 24.0 -> 24.2\n",
      "[notice] To update, run: python.exe -m pip install --upgrade pip\n"
     ]
    }
   ],
   "source": [
    "!pip install --upgrade pip"
   ]
  },
  {
   "cell_type": "code",
   "execution_count": 1,
   "id": "b0bec5de-1a19-4757-a437-a3669ebab37a",
   "metadata": {},
   "outputs": [],
   "source": [
    "#Importing the library functionalities\n",
    "\n",
    "import requests\n",
    "from bs4 import BeautifulSoup\n",
    "import time\n",
    "import urllib.robotparser"
   ]
  },
  {
   "cell_type": "code",
   "execution_count": 7,
   "id": "737b8979-49f2-481b-8259-2086626f93a0",
   "metadata": {},
   "outputs": [],
   "source": [
    "# Function to fetch the HTML content of a page\n",
    "def fetch_page(url):\n",
    "    try:\n",
    "        response = requests.get(url)\n",
    "        if response.status_code == 200:\n",
    "            return response.text\n",
    "        else:\n",
    "            print(f\"Failed to fetch {url}: Status code {response.status_code}\")\n",
    "            return None\n",
    "    except Exception as e:\n",
    "        print(f\"Error fetching {url}: {e}\")\n",
    "        return None"
   ]
  },
  {
   "cell_type": "code",
   "execution_count": 8,
   "id": "aa170a11-d577-4047-868e-148f5217e323",
   "metadata": {},
   "outputs": [],
   "source": [
    "# Function to extract all links from a webpage\n",
    "def extract_links(html_content, base_url):\n",
    "    soup = BeautifulSoup(html_content, 'html.parser')\n",
    "    links = set()  # Using a set to avoid duplicate URLs\n",
    "    for anchor in soup.find_all('a', href=True):\n",
    "        href = anchor['href']\n",
    "        if href.startswith('http'):  # Ensure it's a complete URL\n",
    "            links.add(href)\n",
    "        else:\n",
    "            links.add(base_url + href)  # Handle relative URLs\n",
    "    return links"
   ]
  },
  {
   "cell_type": "code",
   "execution_count": 9,
   "id": "811a7772-9045-46d4-b4f5-b1215650fcf3",
   "metadata": {},
   "outputs": [
    {
     "name": "stdout",
     "output_type": "stream",
     "text": [
      "Crawling: https://en.wikipedia.org\n",
      "Crawling: https://ja.wikipedia.org/wiki/\n",
      "Crawling: https://en.wikipedia.org/wiki/Markham%27s_storm_petrel\n",
      "Crawling: https://en.wikipedia.org/wiki/Castro_District,_San_Francisco\n",
      "Crawling: https://vi.wikipedia.org/wiki/\n",
      "Crawling: https://en.wikipedia.org/wiki/Kathmandu\n",
      "Crawling: https://pa.wikipedia.org/wiki/\n",
      "Crawling: https://en.wikipedia.org/wiki/Bulgogi\n",
      "Crawling: https://sh.wikipedia.org/wiki/\n",
      "Crawling: https://en.wikipedia.org/wiki/Secretum_(British_Museum)\n",
      "Crawled 10 pages\n"
     ]
    }
   ],
   "source": [
    "# Main crawler function\n",
    "def crawl(seed_url, max_pages=10):\n",
    "    to_crawl = [seed_url]  # List of pages to visit\n",
    "    crawled = set()  # Set of pages already visited\n",
    "\n",
    "    while to_crawl and len(crawled) < max_pages:\n",
    "        url = to_crawl.pop(0)  # Get the next page to crawl\n",
    "        if url in crawled:\n",
    "            continue  # Skip if already crawled\n",
    "\n",
    "        print(f\"Crawling: {url}\")\n",
    "        html_content = fetch_page(url)\n",
    "\n",
    "        if html_content:\n",
    "            links = extract_links(html_content, url)\n",
    "            to_crawl.extend(links - crawled)  # Add new links to crawl\n",
    "            crawled.add(url)\n",
    "\n",
    "        time.sleep(1)  # Add a delay to avoid overwhelming servers\n",
    "\n",
    "    print(f\"Crawled {len(crawled)} pages\")\n",
    "\n",
    "# Start crawling from a seed URL\n",
    "seed_url = \"https://en.wikipedia.org\"\n",
    "crawl(seed_url)"
   ]
  },
  {
   "cell_type": "code",
   "execution_count": null,
   "id": "477cf746-79ba-4bb7-a99e-b98902e6735a",
   "metadata": {},
   "outputs": [],
   "source": []
  }
 ],
 "metadata": {
  "kernelspec": {
   "display_name": "Python 3 (ipykernel)",
   "language": "python",
   "name": "python3"
  },
  "language_info": {
   "codemirror_mode": {
    "name": "ipython",
    "version": 3
   },
   "file_extension": ".py",
   "mimetype": "text/x-python",
   "name": "python",
   "nbconvert_exporter": "python",
   "pygments_lexer": "ipython3",
   "version": "3.12.4"
  }
 },
 "nbformat": 4,
 "nbformat_minor": 5
}
